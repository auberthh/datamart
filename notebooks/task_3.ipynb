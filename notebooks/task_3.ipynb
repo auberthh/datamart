{
 "cells": [
  {
   "cell_type": "markdown",
   "metadata": {},
   "source": [
    "## Ejercicio 3: Visualización y Reportes \n",
    "\n",
    "### By:\n",
    "Auberth Eduardo Hurtado\n",
    "\n",
    "### Date:\n",
    "2025-01-17\n",
    "\n",
    "### Description:\n",
    "\n",
    "Data exploration report generation"
   ]
  },
  {
   "cell_type": "markdown",
   "metadata": {},
   "source": [
    "## 📚 Import Required Libraries"
   ]
  },
  {
   "cell_type": "code",
   "execution_count": 17,
   "metadata": {},
   "outputs": [],
   "source": [
    "import pandas as pd\n",
    "import numpy as np\n",
    "import matplotlib.pyplot as plt\n",
    "import seaborn as sns"
   ]
  },
  {
   "cell_type": "markdown",
   "metadata": {},
   "source": [
    "# Load and Inspect Data\n",
    "Load the cleaned_sales_data.csv file from the datamart/data/processed directory and inspect the first few rows of the dataset."
   ]
  },
  {
   "cell_type": "code",
   "execution_count": null,
   "metadata": {},
   "outputs": [],
   "source": [
    "# Load the cleaned sales data\n",
    "sales_data = pd.read_csv(\"../data/processed/cleaned_sales_data.csv\")\n",
    "sales_data"
   ]
  },
  {
   "cell_type": "markdown",
   "metadata": {},
   "source": [
    "## 💾 Usando los datos limpios de cleaned_sales_data.csv:\n",
    "### 1. Genera un reporte con: \n",
    "- Ingresos mensuales totales por región. \n",
    "- Top 10 productos con mayores ingresos (por precio y cantidad). \n",
    "- Relación entre prioridad de envío y descuento aplicado.\n"
   ]
  },
  {
   "cell_type": "code",
   "execution_count": null,
   "metadata": {},
   "outputs": [],
   "source": [
    "# Generate Report\n",
    "\n",
    "# Convert 'order_date' to datetime format\n",
    "sales_data['order_date'] = pd.to_datetime(sales_data['order_date'])\n",
    "\n",
    "# Extract year and month from 'order_date'\n",
    "sales_data['year_month'] = sales_data['order_date'].dt.to_period('M')\n",
    "\n",
    "# Total monthly revenue by region\n",
    "sales_data['total_revenue'] = sales_data['price'] * sales_data['quantity']\n",
    "monthly_revenue_by_region = sales_data.groupby(['year_month', 'region'])['total_revenue'].sum().unstack()\n",
    "monthly_revenue_by_region"
   ]
  },
  {
   "cell_type": "code",
   "execution_count": null,
   "metadata": {},
   "outputs": [],
   "source": [
    "# Plotting the monthly revenue by region\n",
    "monthly_revenue_by_region.plot(kind='bar', figsize=(14, 7))\n",
    "plt.title('Monthly Revenue by Region')\n",
    "plt.xlabel('Year-Month')\n",
    "plt.ylabel('Total Revenue')\n",
    "plt.legend(title='Region')\n",
    "plt.xticks(rotation=45)\n",
    "plt.show()"
   ]
  },
  {
   "cell_type": "code",
   "execution_count": null,
   "metadata": {},
   "outputs": [],
   "source": [
    "# Top 10 products with the highest revenue (by price and quantity)\n",
    "top_10_products = sales_data.groupby('product_id')['total_revenue'].sum().nlargest(10)\n",
    "top_10_products"
   ]
  },
  {
   "cell_type": "code",
   "execution_count": null,
   "metadata": {},
   "outputs": [],
   "source": [
    "# Plotting the top 10 products by highest revenue (by price and quantity)\n",
    "top_10_products.plot(kind='bar', figsize=(14, 7), color='skyblue')\n",
    "plt.title('Top 10 Products by Revenue')\n",
    "plt.xlabel('Product Name')\n",
    "plt.ylabel('Total Revenue')\n",
    "plt.xticks(rotation=45)\n",
    "plt.show()"
   ]
  },
  {
   "cell_type": "code",
   "execution_count": null,
   "metadata": {},
   "outputs": [],
   "source": [
    "# Relationship between shipping priority and discount applied\n",
    "shipping_priority_discount = sales_data.groupby('shipping_priority')['discount'].mean().sort_values(ascending=False)\n",
    "shipping_priority_discount"
   ]
  },
  {
   "cell_type": "code",
   "execution_count": null,
   "metadata": {},
   "outputs": [],
   "source": [
    "# Plotting the relationship between shipping priority and discount\n",
    "plt.figure(figsize=(10, 6))\n",
    "sns.barplot(x=shipping_priority_discount.index, y=shipping_priority_discount.values, palette='viridis', hue=shipping_priority_discount.index, dodge=False)\n",
    "plt.title('Average Discount by Shipping Priority')\n",
    "plt.xlabel('Shipping Priority')\n",
    "plt.ylabel('Average Discount')\n",
    "plt.show()"
   ]
  },
  {
   "cell_type": "markdown",
   "metadata": {},
   "source": [
    "## 2. Visualiza: \n",
    "- Gráfica de barras para ingresos mensuales por región. \n",
    "- Mapa de calor que muestre la correlación entre quantity, price, y discount. "
   ]
  },
  {
   "cell_type": "code",
   "execution_count": null,
   "metadata": {},
   "outputs": [],
   "source": [
    "# Bar Chart for Monthly Revenue by Region\n",
    "monthly_revenue_by_region.plot(kind='bar', figsize=(14, 7))\n",
    "plt.title('Monthly Revenue by Region')\n",
    "plt.xlabel('Year-Month')\n",
    "plt.ylabel('Total Revenue')\n",
    "plt.legend(title='Region')\n",
    "plt.xticks(rotation=45)\n",
    "plt.show()"
   ]
  },
  {
   "cell_type": "code",
   "execution_count": null,
   "metadata": {},
   "outputs": [],
   "source": [
    "# Heatmap for Correlation Between Quantity, Price, and Discount\n",
    "correlation_matrix = sales_data[['quantity', 'price', 'discount']].corr()\n",
    "\n",
    "# Plotting the heatmap\n",
    "plt.figure(figsize=(10, 6))\n",
    "sns.heatmap(correlation_matrix, annot=True, cmap='coolwarm', center=0)\n",
    "plt.title('Correlation Between Quantity, Price, and Discount')\n",
    "plt.show()"
   ]
  },
  {
   "cell_type": "markdown",
   "metadata": {},
   "source": [
    "# 3. Describe brevemente \n",
    "Cualquier patrón detectado (ejemplo: estacionalidad, diferencias regionales). "
   ]
  },
  {
   "cell_type": "code",
   "execution_count": null,
   "metadata": {},
   "outputs": [],
   "source": [
    "# Describe Patterns Detected\n",
    "\n",
    "# Detecting patterns in the data\n",
    "patterns = []\n",
    "\n",
    "# Check for seasonality in monthly revenue by region\n",
    "monthly_revenue_trends = monthly_revenue_by_region.mean(axis=1)\n",
    "if monthly_revenue_trends.autocorr() > 0.5:\n",
    "    patterns.append(\"There is a noticeable seasonality in the monthly revenue trends.\")\n",
    "\n",
    "# Check for regional differences in revenue\n",
    "regional_revenue_variance = monthly_revenue_by_region.var(axis=0)\n",
    "if regional_revenue_variance.max() / regional_revenue_variance.min() > 2:\n",
    "    patterns.append(\"Significant differences in revenue are observed between regions.\")\n",
    "\n",
    "# Check for correlation between quantity, price, and discount\n",
    "if correlation_matrix.loc['quantity', 'price'] > 0.5:\n",
    "    patterns.append(\"There is a strong positive correlation between quantity and price.\")\n",
    "if correlation_matrix.loc['quantity', 'discount'] < -0.5:\n",
    "    patterns.append(\"There is a strong negative correlation between quantity and discount.\")\n",
    "if correlation_matrix.loc['price', 'discount'] < -0.5:\n",
    "    patterns.append(\"There is a strong negative correlation between price and discount.\")\n",
    "\n",
    "# Display detected patterns\n",
    "for pattern in patterns:\n",
    "    print(pattern)"
   ]
  },
  {
   "cell_type": "markdown",
   "metadata": {},
   "source": [
    "## 💡 Be cautious"
   ]
  },
  {
   "cell_type": "code",
   "execution_count": 28,
   "metadata": {},
   "outputs": [],
   "source": [
    "# Save the cleaned and processed dataset\n",
    "sales_data.to_csv(r'../data/final/cleaned_sales_data.csv', index=False)"
   ]
  }
 ],
 "metadata": {
  "kernelspec": {
   "display_name": "datamart_ds",
   "language": "python",
   "name": "python3"
  },
  "language_info": {
   "codemirror_mode": {
    "name": "ipython",
    "version": 3
   },
   "file_extension": ".py",
   "mimetype": "text/x-python",
   "name": "python",
   "nbconvert_exporter": "python",
   "pygments_lexer": "ipython3",
   "version": "3.12.8"
  }
 },
 "nbformat": 4,
 "nbformat_minor": 2
}
