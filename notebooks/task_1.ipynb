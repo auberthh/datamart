{
 "cells": [
  {
   "cell_type": "markdown",
   "metadata": {},
   "source": [
    "## Ejercicio 1: Procesamiento de datos\n",
    "\n",
    "### By:\n",
    "Auberth Eduardo Hurtado\n",
    "\n",
    "### Date:\n",
    "2025-01-17\n",
    "\n",
    "### Description:\n",
    "\n",
    "presentation of methodological proposal for data analysis.\n"
   ]
  },
  {
   "cell_type": "markdown",
   "metadata": {
    "pycharm": {
     "name": "#%% md\n"
    }
   },
   "source": [
    "## 📚 Libraries used"
   ]
  },
  {
   "cell_type": "code",
   "execution_count": 1,
   "metadata": {
    "collapsed": false,
    "pycharm": {
     "name": "#%%\n"
    }
   },
   "outputs": [],
   "source": [
    "import pandas as pd\n",
    "import numpy as np\n",
    "from ydata_profiling import ProfileReport\n",
    "import missingno as msno\n",
    "import seaborn as sns\n",
    "import matplotlib.pyplot as plt\n",
    "import matplotlib\n",
    "\n",
    "# Switch to an interactive backend\n",
    "matplotlib.use('TkAgg')  #Optional"
   ]
  },
  {
   "cell_type": "markdown",
   "metadata": {},
   "source": [
    "## 💾 Tareas\n",
    "### 1. Propón y describe brevemente una estrategia para manejar los datos faltantes, considerando tanto la imputación como la eliminación."
   ]
  },
  {
   "cell_type": "markdown",
   "metadata": {},
   "source": [
    "#### Estrategia para el Manejo de datos faltantes\n",
    "1. Identificación de Datos Faltantes:\n",
    "- Haría un EDA muy rápido utilizando algun framework como pandas profiling para determinar las estadísticas descriptivas generales, el objetivo es tener una vista panorámica de qué está pasando en los datos\n",
    "- Luego empezaría Utilizando métodos como isnull() o isna() para identifica en detalle campos con datos vacíos o faltantes.\n",
    "\n",
    "2. Imputación de Datos:\n",
    "Aqui separaría el dataset en diferentes condiciones de los tipos de datos\n",
    "- **Campos Numéricos:** Imputar valores numéricos faltantes utilizando la media, mediana o moda de la columna, otro camino es utilizando algoritmos de imputación basados en vecindades o segmentos. Ejemplo: Para precios, se puede imputar utilizando el promedio de productos similares.\n",
    "- **Campos Categóricos:** Imputar valores categóricos faltantes utilizando la moda de la columna o el valor más frecuente, se puede revisar la distribución de la variable para identificar la posibilidad de crear nuevas categorías.\n",
    "- **Campos Temporales:** Imputar valores temporales faltantes utilizando interpolación o el valor más cercano, además dependiendo de los datos se puede considerar análisis en ventanas de tiempo o móvil.\n",
    "\n",
    "3. Eliminación de Datos Faltantes:\n",
    "- Si una fila tiene demasiados valores faltantes, se puede considerar eliminarla.\n",
    "- Si una columna tiene demasiados valores faltantes y no es crucial para el análisis, se puede considerar eliminarla.\n",
    "\n",
    "**Nota:** considero importante mencionar que existen otros casos en los cuales se deben tener el cuenta la validez del formato de los campos o en el formato esperado, existen estrategias que utilizan framewors como __great_expectations__ que permiten realizar distintas validaciones y que quedarían automatizadas en el modelo en producción"
   ]
  },
  {
   "cell_type": "markdown",
   "metadata": {
    "pycharm": {
     "name": "#%% md\n"
    }
   },
   "source": [
    "### Load data"
   ]
  },
  {
   "cell_type": "code",
   "execution_count": null,
   "metadata": {
    "collapsed": false,
    "pycharm": {
     "name": "#%%\n"
    }
   },
   "outputs": [],
   "source": [
    "raw_sales_data = pd.read_csv(r'../data/raw/raw_sales_data.csv')\n",
    "raw_sales_data.head()"
   ]
  },
  {
   "cell_type": "markdown",
   "metadata": {},
   "source": [
    "## 👷 2. Limpia y procesa los datos\n",
    "- Identifica valores inválidos o fuera de rango. \n",
    "- Realiza imputaciones dinámicas según patrones detectados (por ejemplo, completar price basado en el promedio de productos similares). "
   ]
  },
  {
   "cell_type": "code",
   "execution_count": null,
   "metadata": {},
   "outputs": [],
   "source": [
    "profile = ProfileReport(raw_sales_data, title=\"Profiling Report\")\n",
    "profile.to_notebook_iframe()"
   ]
  },
  {
   "cell_type": "markdown",
   "metadata": {
    "pycharm": {
     "name": "#%% md\n"
    }
   },
   "source": [
    "- Identifica valores inválidos o fuera de rango. \n"
   ]
  },
  {
   "cell_type": "code",
   "execution_count": 4,
   "metadata": {},
   "outputs": [],
   "source": [
    "noise_options = ['NULL', -9999, \"-9999\", np.nan]\n",
    "\n",
    "# Replace values 'NULL', -9999, or np.nan with np.nan\n",
    "raw_sales_data.replace(noise_options, np.nan, inplace=True)\n",
    "\n",
    "# Identify missing values\n",
    "missing_values = raw_sales_data.isnull().sum()\n",
    "#missing_values"
   ]
  },
  {
   "cell_type": "markdown",
   "metadata": {
    "collapsed": false,
    "pycharm": {
     "name": "#%%\n"
    }
   },
   "source": [
    "- Realiza imputaciones dinámicas según patrones detectados (por ejemplo, completar price basado en el promedio de productos similares). "
   ]
  },
  {
   "cell_type": "code",
   "execution_count": 5,
   "metadata": {},
   "outputs": [],
   "source": [
    "# Visualize the pattern of missing values\n",
    "plt.figure(figsize=(12, 8))\n",
    "sns.heatmap(raw_sales_data.isnull(), cbar=False, cmap='viridis')\n",
    "plt.savefig('../docs/missing_values_heatmap.png')\n",
    "#plt.show()"
   ]
  },
  {
   "cell_type": "markdown",
   "metadata": {},
   "source": [
    "El anterior resultado muestra que el patrón de valores perdidos es totalmente aleatorio, sin embargo para efectos de la prueba vamos a asumir que la ubicación geográfica (región) recoge las variaciones interna de los clientes.\n",
    "\n",
    "Adicionalmente, vamos a asumir que ya se agotaron todas las instacias y es imposible recuperar datos de cliente (customer_id) y región (region)."
   ]
  },
  {
   "cell_type": "code",
   "execution_count": null,
   "metadata": {},
   "outputs": [],
   "source": [
    "# Remove rows with null values in 'customer_id' and 'region'\n",
    "raw_sales_data.dropna(subset=['customer_id', 'region', 'order_date'], inplace=True)\n",
    "\n",
    "# [Optional] Drop rows with too many missing values\n",
    "# raw_sales_data.dropna(thresh=len(raw_sales_data.columns) - 3, inplace=True)\n",
    "\n",
    "# Impute other fields dynamically\n",
    "raw_sales_data['product_id'] = raw_sales_data.groupby('region')['product_id'].transform(lambda x: x.fillna(x.mode()[0] if not x.mode().empty else x.median()))\n",
    "raw_sales_data['quantity'] = raw_sales_data.groupby('region')['quantity'].transform(lambda x: x.fillna(int(x.median())))\n",
    "raw_sales_data['price'] = raw_sales_data.groupby('region')['price'].transform(lambda x: x.fillna(x.mean()))\n",
    "raw_sales_data['discount'] = raw_sales_data.groupby('region')['discount'].transform(lambda x: x.fillna(x.median()))\n",
    "raw_sales_data['shipping_priority'] = raw_sales_data.groupby('region')['shipping_priority'].transform(lambda x: x.fillna(x.mode()[0] if not x.mode().empty else x.median()))\n",
    "raw_sales_data.head()"
   ]
  },
  {
   "cell_type": "code",
   "execution_count": null,
   "metadata": {},
   "outputs": [],
   "source": [
    "# Validation\n",
    "raw_sales_data.isnull().sum()"
   ]
  },
  {
   "cell_type": "markdown",
   "metadata": {},
   "source": [
    "## 👷 3. Calcula: \n",
    "- Ingreso total por cliente considerando descuentos. \n",
    "- Producto más vendido por región y ingreso total generado por cada región. \n",
    "- Distribución de prioridad de envío por región. "
   ]
  },
  {
   "cell_type": "code",
   "execution_count": null,
   "metadata": {},
   "outputs": [],
   "source": [
    "# Calculate total income per customer considering discounts\n",
    "raw_sales_data['total_income'] = raw_sales_data['quantity'] * raw_sales_data['price'] * (1 - raw_sales_data['discount'])\n",
    "total_income_per_client = raw_sales_data.groupby('customer_id')['total_income'].sum().reset_index()\n",
    "total_income_per_client.head()\n"
   ]
  },
  {
   "cell_type": "markdown",
   "metadata": {},
   "source": [
    "- Producto más vendido por región y ingreso total generado por cada región. "
   ]
  },
  {
   "cell_type": "code",
   "execution_count": null,
   "metadata": {},
   "outputs": [],
   "source": [
    "# Most sold product by region\n",
    "most_sold_product = raw_sales_data.groupby('region')['product_id'].agg(lambda x: x.value_counts().index[0])\n",
    "most_sold_product.head()"
   ]
  },
  {
   "cell_type": "code",
   "execution_count": null,
   "metadata": {},
   "outputs": [],
   "source": [
    "# Total income generated by each region\n",
    "total_income_by_region = raw_sales_data.groupby('region')['total_income'].sum()\n",
    "total_income_by_region.head()"
   ]
  },
  {
   "cell_type": "markdown",
   "metadata": {},
   "source": [
    "- Distribución de prioridad de envío por región. "
   ]
  },
  {
   "cell_type": "code",
   "execution_count": null,
   "metadata": {},
   "outputs": [],
   "source": [
    "# Distribution of shipping priority by region\n",
    "shipping_priority_distribution = raw_sales_data.groupby('region')['shipping_priority'].value_counts(normalize=True)\n",
    "shipping_priority_distribution.head()"
   ]
  },
  {
   "cell_type": "markdown",
   "metadata": {
    "pycharm": {
     "name": "#%% md\n"
    }
   },
   "source": [
    "## 📊 4. Guarda el dataset limpio y procesado en cleaned_sales_data.csv\n"
   ]
  },
  {
   "cell_type": "code",
   "execution_count": 12,
   "metadata": {
    "collapsed": false,
    "pycharm": {
     "name": "#%%\n"
    }
   },
   "outputs": [],
   "source": [
    "# Save the cleaned and processed dataset\n",
    "raw_sales_data.to_csv(r'../data/processed/cleaned_sales_data.csv', index=False)"
   ]
  },
  {
   "cell_type": "markdown",
   "metadata": {},
   "source": [
    "## 💡 Caveats"
   ]
  },
  {
   "cell_type": "code",
   "execution_count": null,
   "metadata": {},
   "outputs": [],
   "source": [
    "print(f'Data cleaning and processing completed successfully with {raw_sales_data.shape[0]} rows')"
   ]
  }
 ],
 "metadata": {
  "kernelspec": {
   "display_name": "datamart_ds",
   "language": "python",
   "name": "python3"
  },
  "language_info": {
   "codemirror_mode": {
    "name": "ipython",
    "version": 3
   },
   "file_extension": ".py",
   "mimetype": "text/x-python",
   "name": "python",
   "nbconvert_exporter": "python",
   "pygments_lexer": "ipython3",
   "version": "3.12.8"
  }
 },
 "nbformat": 4,
 "nbformat_minor": 4
}
